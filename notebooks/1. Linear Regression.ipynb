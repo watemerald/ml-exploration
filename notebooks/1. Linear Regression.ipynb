{
 "cells": [
  {
   "cell_type": "markdown",
   "id": "648ff126-ba28-4b06-adb0-fc26273a35eb",
   "metadata": {},
   "source": [
    "# Linear Regression Model Tuning"
   ]
  },
  {
   "cell_type": "code",
   "execution_count": 1,
   "id": "5cb2cb02-c145-4a02-ad6e-0599cab6a227",
   "metadata": {},
   "outputs": [],
   "source": [
    "import numpy as np\n",
    "import pandas as pd"
   ]
  },
  {
   "cell_type": "markdown",
   "id": "336615a0-6ba6-42a8-be6e-5675c047bf2d",
   "metadata": {},
   "source": [
    "## Dataset\n",
    "\n",
    "For the dataset I've chosen the [UCI Wine Quality dataset](https://archive.ics.uci.edu/ml/datasets/wine+quality), as I think it is appropriate for this case."
   ]
  },
  {
   "cell_type": "code",
   "execution_count": 2,
   "id": "ddb588d9-0a04-4bc5-aed5-40b6e1a2916b",
   "metadata": {},
   "outputs": [],
   "source": [
    "from sklearn.model_selection import train_test_split\n",
    "\n",
    "# Set seed for reproducible runs\n",
    "np.random.seed(42)\n",
    "\n",
    "df = pd.read_csv(\"../data/winequalityN.csv\")\n",
    "df = df.dropna()\n",
    "\n",
    "train, test = train_test_split(df, test_size=0.2)"
   ]
  },
  {
   "cell_type": "code",
   "execution_count": 3,
   "id": "81537ee6-07d2-437c-a12a-b4125e35e856",
   "metadata": {},
   "outputs": [
    {
     "data": {
      "text/html": [
       "<div>\n",
       "<style scoped>\n",
       "    .dataframe tbody tr th:only-of-type {\n",
       "        vertical-align: middle;\n",
       "    }\n",
       "\n",
       "    .dataframe tbody tr th {\n",
       "        vertical-align: top;\n",
       "    }\n",
       "\n",
       "    .dataframe thead th {\n",
       "        text-align: right;\n",
       "    }\n",
       "</style>\n",
       "<table border=\"1\" class=\"dataframe\">\n",
       "  <thead>\n",
       "    <tr style=\"text-align: right;\">\n",
       "      <th></th>\n",
       "      <th>type</th>\n",
       "      <th>fixed acidity</th>\n",
       "      <th>volatile acidity</th>\n",
       "      <th>citric acid</th>\n",
       "      <th>residual sugar</th>\n",
       "      <th>chlorides</th>\n",
       "      <th>free sulfur dioxide</th>\n",
       "      <th>total sulfur dioxide</th>\n",
       "      <th>density</th>\n",
       "      <th>pH</th>\n",
       "      <th>sulphates</th>\n",
       "      <th>alcohol</th>\n",
       "      <th>quality</th>\n",
       "    </tr>\n",
       "  </thead>\n",
       "  <tbody>\n",
       "    <tr>\n",
       "      <th>459</th>\n",
       "      <td>white</td>\n",
       "      <td>6.1</td>\n",
       "      <td>0.43</td>\n",
       "      <td>0.35</td>\n",
       "      <td>9.1</td>\n",
       "      <td>0.059</td>\n",
       "      <td>83.0</td>\n",
       "      <td>249.0</td>\n",
       "      <td>0.99710</td>\n",
       "      <td>3.37</td>\n",
       "      <td>0.50</td>\n",
       "      <td>8.500000</td>\n",
       "      <td>5</td>\n",
       "    </tr>\n",
       "    <tr>\n",
       "      <th>1460</th>\n",
       "      <td>white</td>\n",
       "      <td>8.5</td>\n",
       "      <td>0.17</td>\n",
       "      <td>0.74</td>\n",
       "      <td>3.6</td>\n",
       "      <td>0.050</td>\n",
       "      <td>29.0</td>\n",
       "      <td>128.0</td>\n",
       "      <td>0.99280</td>\n",
       "      <td>3.28</td>\n",
       "      <td>0.40</td>\n",
       "      <td>12.400000</td>\n",
       "      <td>6</td>\n",
       "    </tr>\n",
       "    <tr>\n",
       "      <th>4403</th>\n",
       "      <td>white</td>\n",
       "      <td>5.2</td>\n",
       "      <td>0.22</td>\n",
       "      <td>0.46</td>\n",
       "      <td>6.2</td>\n",
       "      <td>0.066</td>\n",
       "      <td>41.0</td>\n",
       "      <td>187.0</td>\n",
       "      <td>0.99362</td>\n",
       "      <td>3.19</td>\n",
       "      <td>0.42</td>\n",
       "      <td>9.733333</td>\n",
       "      <td>5</td>\n",
       "    </tr>\n",
       "    <tr>\n",
       "      <th>3828</th>\n",
       "      <td>white</td>\n",
       "      <td>6.3</td>\n",
       "      <td>0.40</td>\n",
       "      <td>0.24</td>\n",
       "      <td>5.1</td>\n",
       "      <td>0.036</td>\n",
       "      <td>43.0</td>\n",
       "      <td>131.0</td>\n",
       "      <td>0.99186</td>\n",
       "      <td>3.24</td>\n",
       "      <td>0.44</td>\n",
       "      <td>11.300000</td>\n",
       "      <td>6</td>\n",
       "    </tr>\n",
       "    <tr>\n",
       "      <th>4317</th>\n",
       "      <td>white</td>\n",
       "      <td>6.7</td>\n",
       "      <td>0.34</td>\n",
       "      <td>0.26</td>\n",
       "      <td>1.9</td>\n",
       "      <td>0.038</td>\n",
       "      <td>58.0</td>\n",
       "      <td>138.0</td>\n",
       "      <td>0.98930</td>\n",
       "      <td>3.00</td>\n",
       "      <td>0.47</td>\n",
       "      <td>12.200000</td>\n",
       "      <td>7</td>\n",
       "    </tr>\n",
       "    <tr>\n",
       "      <th>...</th>\n",
       "      <td>...</td>\n",
       "      <td>...</td>\n",
       "      <td>...</td>\n",
       "      <td>...</td>\n",
       "      <td>...</td>\n",
       "      <td>...</td>\n",
       "      <td>...</td>\n",
       "      <td>...</td>\n",
       "      <td>...</td>\n",
       "      <td>...</td>\n",
       "      <td>...</td>\n",
       "      <td>...</td>\n",
       "      <td>...</td>\n",
       "    </tr>\n",
       "    <tr>\n",
       "      <th>3798</th>\n",
       "      <td>white</td>\n",
       "      <td>7.9</td>\n",
       "      <td>0.21</td>\n",
       "      <td>0.39</td>\n",
       "      <td>2.0</td>\n",
       "      <td>0.057</td>\n",
       "      <td>21.0</td>\n",
       "      <td>138.0</td>\n",
       "      <td>0.99176</td>\n",
       "      <td>3.05</td>\n",
       "      <td>0.52</td>\n",
       "      <td>10.900000</td>\n",
       "      <td>5</td>\n",
       "    </tr>\n",
       "    <tr>\n",
       "      <th>5219</th>\n",
       "      <td>red</td>\n",
       "      <td>9.3</td>\n",
       "      <td>0.61</td>\n",
       "      <td>0.26</td>\n",
       "      <td>3.4</td>\n",
       "      <td>0.090</td>\n",
       "      <td>25.0</td>\n",
       "      <td>87.0</td>\n",
       "      <td>0.99975</td>\n",
       "      <td>3.24</td>\n",
       "      <td>0.62</td>\n",
       "      <td>9.700000</td>\n",
       "      <td>5</td>\n",
       "    </tr>\n",
       "    <tr>\n",
       "      <th>5254</th>\n",
       "      <td>red</td>\n",
       "      <td>11.5</td>\n",
       "      <td>0.41</td>\n",
       "      <td>0.52</td>\n",
       "      <td>3.0</td>\n",
       "      <td>0.080</td>\n",
       "      <td>29.0</td>\n",
       "      <td>55.0</td>\n",
       "      <td>1.00010</td>\n",
       "      <td>3.26</td>\n",
       "      <td>0.88</td>\n",
       "      <td>11.000000</td>\n",
       "      <td>5</td>\n",
       "    </tr>\n",
       "    <tr>\n",
       "      <th>5418</th>\n",
       "      <td>red</td>\n",
       "      <td>9.8</td>\n",
       "      <td>0.25</td>\n",
       "      <td>0.49</td>\n",
       "      <td>2.7</td>\n",
       "      <td>0.088</td>\n",
       "      <td>15.0</td>\n",
       "      <td>33.0</td>\n",
       "      <td>0.99820</td>\n",
       "      <td>3.42</td>\n",
       "      <td>0.90</td>\n",
       "      <td>10.000000</td>\n",
       "      <td>6</td>\n",
       "    </tr>\n",
       "    <tr>\n",
       "      <th>881</th>\n",
       "      <td>white</td>\n",
       "      <td>8.8</td>\n",
       "      <td>0.36</td>\n",
       "      <td>0.44</td>\n",
       "      <td>1.9</td>\n",
       "      <td>0.040</td>\n",
       "      <td>9.0</td>\n",
       "      <td>121.0</td>\n",
       "      <td>0.99530</td>\n",
       "      <td>3.19</td>\n",
       "      <td>0.48</td>\n",
       "      <td>9.900000</td>\n",
       "      <td>6</td>\n",
       "    </tr>\n",
       "  </tbody>\n",
       "</table>\n",
       "<p>5170 rows × 13 columns</p>\n",
       "</div>"
      ],
      "text/plain": [
       "       type  fixed acidity  volatile acidity  citric acid  residual sugar  \\\n",
       "459   white            6.1              0.43         0.35             9.1   \n",
       "1460  white            8.5              0.17         0.74             3.6   \n",
       "4403  white            5.2              0.22         0.46             6.2   \n",
       "3828  white            6.3              0.40         0.24             5.1   \n",
       "4317  white            6.7              0.34         0.26             1.9   \n",
       "...     ...            ...               ...          ...             ...   \n",
       "3798  white            7.9              0.21         0.39             2.0   \n",
       "5219    red            9.3              0.61         0.26             3.4   \n",
       "5254    red           11.5              0.41         0.52             3.0   \n",
       "5418    red            9.8              0.25         0.49             2.7   \n",
       "881   white            8.8              0.36         0.44             1.9   \n",
       "\n",
       "      chlorides  free sulfur dioxide  total sulfur dioxide  density    pH  \\\n",
       "459       0.059                 83.0                 249.0  0.99710  3.37   \n",
       "1460      0.050                 29.0                 128.0  0.99280  3.28   \n",
       "4403      0.066                 41.0                 187.0  0.99362  3.19   \n",
       "3828      0.036                 43.0                 131.0  0.99186  3.24   \n",
       "4317      0.038                 58.0                 138.0  0.98930  3.00   \n",
       "...         ...                  ...                   ...      ...   ...   \n",
       "3798      0.057                 21.0                 138.0  0.99176  3.05   \n",
       "5219      0.090                 25.0                  87.0  0.99975  3.24   \n",
       "5254      0.080                 29.0                  55.0  1.00010  3.26   \n",
       "5418      0.088                 15.0                  33.0  0.99820  3.42   \n",
       "881       0.040                  9.0                 121.0  0.99530  3.19   \n",
       "\n",
       "      sulphates    alcohol  quality  \n",
       "459        0.50   8.500000        5  \n",
       "1460       0.40  12.400000        6  \n",
       "4403       0.42   9.733333        5  \n",
       "3828       0.44  11.300000        6  \n",
       "4317       0.47  12.200000        7  \n",
       "...         ...        ...      ...  \n",
       "3798       0.52  10.900000        5  \n",
       "5219       0.62   9.700000        5  \n",
       "5254       0.88  11.000000        5  \n",
       "5418       0.90  10.000000        6  \n",
       "881        0.48   9.900000        6  \n",
       "\n",
       "[5170 rows x 13 columns]"
      ]
     },
     "execution_count": 3,
     "metadata": {},
     "output_type": "execute_result"
    }
   ],
   "source": [
    "train"
   ]
  },
  {
   "cell_type": "code",
   "execution_count": 4,
   "id": "e8cadf0d-b813-4025-9b80-bce07b32d8fb",
   "metadata": {},
   "outputs": [],
   "source": [
    "# x is all numerical features, y is quality\n",
    "\n",
    "train_x, train_y = train[df.columns.difference([\"type\", \"quality\"])], train[\"quality\"]\n",
    "test_x, test_y = test[df.columns.difference([\"type\", \"quality\"])], test[\"quality\"]"
   ]
  },
  {
   "cell_type": "markdown",
   "id": "1a2b24ad-8934-4519-8767-dc6b63f03df3",
   "metadata": {},
   "source": [
    "## Basic Linear Regression"
   ]
  },
  {
   "cell_type": "code",
   "execution_count": 10,
   "id": "f2085268-c5df-4392-be18-c826e5496e46",
   "metadata": {},
   "outputs": [
    {
     "data": {
      "text/plain": [
       "LinearRegression()"
      ]
     },
     "execution_count": 10,
     "metadata": {},
     "output_type": "execute_result"
    }
   ],
   "source": [
    "from sklearn.linear_model import LinearRegression\n",
    "\n",
    "model = LinearRegression()\n",
    "model.fit(train_x, train_y)"
   ]
  },
  {
   "cell_type": "code",
   "execution_count": 12,
   "id": "95bb2269-046a-496e-a800-a1c2fad43ef6",
   "metadata": {},
   "outputs": [],
   "source": [
    "from sklearn.metrics import mean_squared_error, r2_score\n",
    "\n",
    "\n",
    "def print_metrics(model, test_x, test_y):\n",
    "    test_pred = model.predict(test_x)\n",
    "\n",
    "    print(f\"MSE {mean_squared_error(test_y, test_pred)}\")\n",
    "    print(f\"R2 Score {r2_score(test_y, test_pred)}\")"
   ]
  },
  {
   "cell_type": "code",
   "execution_count": 14,
   "id": "3e3e487f-24c8-4264-b601-c687d38e77f8",
   "metadata": {},
   "outputs": [
    {
     "name": "stdout",
     "output_type": "stream",
     "text": [
      "MSE 0.5181044887725762\n",
      "R2 Score 0.34613659277743936\n"
     ]
    }
   ],
   "source": [
    "print_metrics(model, test_x, test_y)"
   ]
  },
  {
   "cell_type": "code",
   "execution_count": 50,
   "id": "3634e6c4-0fb2-4db7-b0d4-da9e7336503f",
   "metadata": {},
   "outputs": [],
   "source": [
    "test_pred = model.predict(test_x)"
   ]
  },
  {
   "cell_type": "code",
   "execution_count": 56,
   "id": "98655c61-8f5c-4717-83d5-1c6f825d39f3",
   "metadata": {},
   "outputs": [
    {
     "data": {
      "text/plain": [
       "count    6463.000000\n",
       "mean        5.818505\n",
       "std         0.873286\n",
       "min         3.000000\n",
       "25%         5.000000\n",
       "50%         6.000000\n",
       "75%         6.000000\n",
       "max         9.000000\n",
       "Name: quality, dtype: float64"
      ]
     },
     "execution_count": 56,
     "metadata": {},
     "output_type": "execute_result"
    }
   ],
   "source": [
    "df['quality'].describe()"
   ]
  },
  {
   "cell_type": "code",
   "execution_count": 54,
   "id": "38f8e216-c6db-48cc-a01b-43818a979fbe",
   "metadata": {},
   "outputs": [
    {
     "data": {
      "text/html": [
       "<div>\n",
       "<style scoped>\n",
       "    .dataframe tbody tr th:only-of-type {\n",
       "        vertical-align: middle;\n",
       "    }\n",
       "\n",
       "    .dataframe tbody tr th {\n",
       "        vertical-align: top;\n",
       "    }\n",
       "\n",
       "    .dataframe thead th {\n",
       "        text-align: right;\n",
       "    }\n",
       "</style>\n",
       "<table border=\"1\" class=\"dataframe\">\n",
       "  <thead>\n",
       "    <tr style=\"text-align: right;\">\n",
       "      <th></th>\n",
       "      <th>0</th>\n",
       "    </tr>\n",
       "  </thead>\n",
       "  <tbody>\n",
       "    <tr>\n",
       "      <th>count</th>\n",
       "      <td>1293.000000</td>\n",
       "    </tr>\n",
       "    <tr>\n",
       "      <th>mean</th>\n",
       "      <td>5.843063</td>\n",
       "    </tr>\n",
       "    <tr>\n",
       "      <th>std</th>\n",
       "      <td>0.482378</td>\n",
       "    </tr>\n",
       "    <tr>\n",
       "      <th>min</th>\n",
       "      <td>4.237051</td>\n",
       "    </tr>\n",
       "    <tr>\n",
       "      <th>25%</th>\n",
       "      <td>5.490974</td>\n",
       "    </tr>\n",
       "    <tr>\n",
       "      <th>50%</th>\n",
       "      <td>5.841138</td>\n",
       "    </tr>\n",
       "    <tr>\n",
       "      <th>75%</th>\n",
       "      <td>6.203619</td>\n",
       "    </tr>\n",
       "    <tr>\n",
       "      <th>max</th>\n",
       "      <td>7.112223</td>\n",
       "    </tr>\n",
       "  </tbody>\n",
       "</table>\n",
       "</div>"
      ],
      "text/plain": [
       "                 0\n",
       "count  1293.000000\n",
       "mean      5.843063\n",
       "std       0.482378\n",
       "min       4.237051\n",
       "25%       5.490974\n",
       "50%       5.841138\n",
       "75%       6.203619\n",
       "max       7.112223"
      ]
     },
     "execution_count": 54,
     "metadata": {},
     "output_type": "execute_result"
    }
   ],
   "source": [
    "pd.DataFrame(test_pred).describe()"
   ]
  },
  {
   "cell_type": "code",
   "execution_count": 57,
   "id": "592bea6c-85dd-446a-be49-8ff0f31ba584",
   "metadata": {},
   "outputs": [
    {
     "data": {
      "text/plain": [
       "array([ 2.69339111e-01, -5.99532485e-01, -1.53457236e-01, -4.56550079e+01,\n",
       "        5.97136749e-02,  6.05018246e-03,  4.01915362e-01,  4.00340414e-02,\n",
       "        7.53978919e-01, -2.29118707e-03, -1.35851918e+00])"
      ]
     },
     "execution_count": 57,
     "metadata": {},
     "output_type": "execute_result"
    }
   ],
   "source": [
    "model.coef_"
   ]
  },
  {
   "cell_type": "markdown",
   "id": "79b08ff5-ee67-4696-b2fc-47da4823ba63",
   "metadata": {},
   "source": [
    "Not great metrics for a straight up Linear Regression model. Let's try improving the performance"
   ]
  },
  {
   "cell_type": "code",
   "execution_count": 58,
   "id": "2f5cb632-6aa4-4614-9653-86ecc3012984",
   "metadata": {},
   "outputs": [
    {
     "data": {
      "text/plain": [
       "Index(['type', 'fixed acidity', 'volatile acidity', 'citric acid',\n",
       "       'residual sugar', 'chlorides', 'free sulfur dioxide',\n",
       "       'total sulfur dioxide', 'density', 'pH', 'sulphates', 'alcohol',\n",
       "       'quality'],\n",
       "      dtype='object')"
      ]
     },
     "execution_count": 58,
     "metadata": {},
     "output_type": "execute_result"
    }
   ],
   "source": [
    "df.columns"
   ]
  },
  {
   "cell_type": "code",
   "execution_count": 59,
   "id": "2baa4ec2-39a6-49d4-b036-75927f78809f",
   "metadata": {},
   "outputs": [
    {
     "data": {
      "text/plain": [
       "count    6463.000000\n",
       "mean        3.218332\n",
       "std         0.160650\n",
       "min         2.720000\n",
       "25%         3.110000\n",
       "50%         3.210000\n",
       "75%         3.320000\n",
       "max         4.010000\n",
       "Name: pH, dtype: float64"
      ]
     },
     "execution_count": 59,
     "metadata": {},
     "output_type": "execute_result"
    }
   ],
   "source": [
    "df['pH'].describe()"
   ]
  },
  {
   "cell_type": "markdown",
   "id": "de4e5160-beae-4aa4-8b84-95189000efb0",
   "metadata": {},
   "source": [
    "## Data normalization"
   ]
  },
  {
   "cell_type": "code",
   "execution_count": 15,
   "id": "068075ed-b9dd-4fd1-a49f-5cc9e6c17453",
   "metadata": {},
   "outputs": [
    {
     "data": {
      "text/html": [
       "<div>\n",
       "<style scoped>\n",
       "    .dataframe tbody tr th:only-of-type {\n",
       "        vertical-align: middle;\n",
       "    }\n",
       "\n",
       "    .dataframe tbody tr th {\n",
       "        vertical-align: top;\n",
       "    }\n",
       "\n",
       "    .dataframe thead th {\n",
       "        text-align: right;\n",
       "    }\n",
       "</style>\n",
       "<table border=\"1\" class=\"dataframe\">\n",
       "  <thead>\n",
       "    <tr style=\"text-align: right;\">\n",
       "      <th></th>\n",
       "      <th>fixed acidity</th>\n",
       "      <th>volatile acidity</th>\n",
       "      <th>citric acid</th>\n",
       "      <th>residual sugar</th>\n",
       "      <th>chlorides</th>\n",
       "      <th>free sulfur dioxide</th>\n",
       "      <th>total sulfur dioxide</th>\n",
       "      <th>density</th>\n",
       "      <th>pH</th>\n",
       "      <th>sulphates</th>\n",
       "      <th>alcohol</th>\n",
       "      <th>quality</th>\n",
       "    </tr>\n",
       "  </thead>\n",
       "  <tbody>\n",
       "    <tr>\n",
       "      <th>count</th>\n",
       "      <td>6463.000000</td>\n",
       "      <td>6463.000000</td>\n",
       "      <td>6463.000000</td>\n",
       "      <td>6463.000000</td>\n",
       "      <td>6463.000000</td>\n",
       "      <td>6463.000000</td>\n",
       "      <td>6463.000000</td>\n",
       "      <td>6463.000000</td>\n",
       "      <td>6463.000000</td>\n",
       "      <td>6463.000000</td>\n",
       "      <td>6463.000000</td>\n",
       "      <td>6463.000000</td>\n",
       "    </tr>\n",
       "    <tr>\n",
       "      <th>mean</th>\n",
       "      <td>7.217755</td>\n",
       "      <td>0.339589</td>\n",
       "      <td>0.318758</td>\n",
       "      <td>5.443958</td>\n",
       "      <td>0.056056</td>\n",
       "      <td>30.516865</td>\n",
       "      <td>115.694492</td>\n",
       "      <td>0.994698</td>\n",
       "      <td>3.218332</td>\n",
       "      <td>0.531150</td>\n",
       "      <td>10.492825</td>\n",
       "      <td>5.818505</td>\n",
       "    </tr>\n",
       "    <tr>\n",
       "      <th>std</th>\n",
       "      <td>1.297913</td>\n",
       "      <td>0.164639</td>\n",
       "      <td>0.145252</td>\n",
       "      <td>4.756852</td>\n",
       "      <td>0.035076</td>\n",
       "      <td>17.758815</td>\n",
       "      <td>56.526736</td>\n",
       "      <td>0.003001</td>\n",
       "      <td>0.160650</td>\n",
       "      <td>0.148913</td>\n",
       "      <td>1.193128</td>\n",
       "      <td>0.873286</td>\n",
       "    </tr>\n",
       "    <tr>\n",
       "      <th>min</th>\n",
       "      <td>3.800000</td>\n",
       "      <td>0.080000</td>\n",
       "      <td>0.000000</td>\n",
       "      <td>0.600000</td>\n",
       "      <td>0.009000</td>\n",
       "      <td>1.000000</td>\n",
       "      <td>6.000000</td>\n",
       "      <td>0.987110</td>\n",
       "      <td>2.720000</td>\n",
       "      <td>0.220000</td>\n",
       "      <td>8.000000</td>\n",
       "      <td>3.000000</td>\n",
       "    </tr>\n",
       "    <tr>\n",
       "      <th>25%</th>\n",
       "      <td>6.400000</td>\n",
       "      <td>0.230000</td>\n",
       "      <td>0.250000</td>\n",
       "      <td>1.800000</td>\n",
       "      <td>0.038000</td>\n",
       "      <td>17.000000</td>\n",
       "      <td>77.000000</td>\n",
       "      <td>0.992330</td>\n",
       "      <td>3.110000</td>\n",
       "      <td>0.430000</td>\n",
       "      <td>9.500000</td>\n",
       "      <td>5.000000</td>\n",
       "    </tr>\n",
       "    <tr>\n",
       "      <th>50%</th>\n",
       "      <td>7.000000</td>\n",
       "      <td>0.290000</td>\n",
       "      <td>0.310000</td>\n",
       "      <td>3.000000</td>\n",
       "      <td>0.047000</td>\n",
       "      <td>29.000000</td>\n",
       "      <td>118.000000</td>\n",
       "      <td>0.994890</td>\n",
       "      <td>3.210000</td>\n",
       "      <td>0.510000</td>\n",
       "      <td>10.300000</td>\n",
       "      <td>6.000000</td>\n",
       "    </tr>\n",
       "    <tr>\n",
       "      <th>75%</th>\n",
       "      <td>7.700000</td>\n",
       "      <td>0.400000</td>\n",
       "      <td>0.390000</td>\n",
       "      <td>8.100000</td>\n",
       "      <td>0.065000</td>\n",
       "      <td>41.000000</td>\n",
       "      <td>156.000000</td>\n",
       "      <td>0.997000</td>\n",
       "      <td>3.320000</td>\n",
       "      <td>0.600000</td>\n",
       "      <td>11.300000</td>\n",
       "      <td>6.000000</td>\n",
       "    </tr>\n",
       "    <tr>\n",
       "      <th>max</th>\n",
       "      <td>15.900000</td>\n",
       "      <td>1.580000</td>\n",
       "      <td>1.660000</td>\n",
       "      <td>65.800000</td>\n",
       "      <td>0.611000</td>\n",
       "      <td>289.000000</td>\n",
       "      <td>440.000000</td>\n",
       "      <td>1.038980</td>\n",
       "      <td>4.010000</td>\n",
       "      <td>2.000000</td>\n",
       "      <td>14.900000</td>\n",
       "      <td>9.000000</td>\n",
       "    </tr>\n",
       "  </tbody>\n",
       "</table>\n",
       "</div>"
      ],
      "text/plain": [
       "       fixed acidity  volatile acidity  citric acid  residual sugar  \\\n",
       "count    6463.000000       6463.000000  6463.000000     6463.000000   \n",
       "mean        7.217755          0.339589     0.318758        5.443958   \n",
       "std         1.297913          0.164639     0.145252        4.756852   \n",
       "min         3.800000          0.080000     0.000000        0.600000   \n",
       "25%         6.400000          0.230000     0.250000        1.800000   \n",
       "50%         7.000000          0.290000     0.310000        3.000000   \n",
       "75%         7.700000          0.400000     0.390000        8.100000   \n",
       "max        15.900000          1.580000     1.660000       65.800000   \n",
       "\n",
       "         chlorides  free sulfur dioxide  total sulfur dioxide      density  \\\n",
       "count  6463.000000          6463.000000           6463.000000  6463.000000   \n",
       "mean      0.056056            30.516865            115.694492     0.994698   \n",
       "std       0.035076            17.758815             56.526736     0.003001   \n",
       "min       0.009000             1.000000              6.000000     0.987110   \n",
       "25%       0.038000            17.000000             77.000000     0.992330   \n",
       "50%       0.047000            29.000000            118.000000     0.994890   \n",
       "75%       0.065000            41.000000            156.000000     0.997000   \n",
       "max       0.611000           289.000000            440.000000     1.038980   \n",
       "\n",
       "                pH    sulphates      alcohol      quality  \n",
       "count  6463.000000  6463.000000  6463.000000  6463.000000  \n",
       "mean      3.218332     0.531150    10.492825     5.818505  \n",
       "std       0.160650     0.148913     1.193128     0.873286  \n",
       "min       2.720000     0.220000     8.000000     3.000000  \n",
       "25%       3.110000     0.430000     9.500000     5.000000  \n",
       "50%       3.210000     0.510000    10.300000     6.000000  \n",
       "75%       3.320000     0.600000    11.300000     6.000000  \n",
       "max       4.010000     2.000000    14.900000     9.000000  "
      ]
     },
     "execution_count": 15,
     "metadata": {},
     "output_type": "execute_result"
    }
   ],
   "source": [
    "df.describe()"
   ]
  },
  {
   "cell_type": "markdown",
   "id": "97ca78b9-aa0e-4148-afcf-bba35083d3ae",
   "metadata": {},
   "source": [
    "All the input features have extremely varied ranges of what they can be. Can scaling them make the model work better?"
   ]
  },
  {
   "cell_type": "code",
   "execution_count": 30,
   "id": "75a33377-746e-4a9d-8c1b-5bdc3a520364",
   "metadata": {},
   "outputs": [
    {
     "data": {
      "text/plain": [
       "Pipeline(steps=[('standardscaler', StandardScaler()),\n",
       "                ('linearregression', LinearRegression())])"
      ]
     },
     "execution_count": 30,
     "metadata": {},
     "output_type": "execute_result"
    }
   ],
   "source": [
    "from sklearn.pipeline import make_pipeline\n",
    "from sklearn.preprocessing import StandardScaler\n",
    "\n",
    "pipe = make_pipeline(StandardScaler(), LinearRegression())\n",
    "pipe"
   ]
  },
  {
   "cell_type": "code",
   "execution_count": 31,
   "id": "433fa461-f775-49ff-a41a-3dd9d2b2804a",
   "metadata": {},
   "outputs": [
    {
     "data": {
      "text/plain": [
       "Pipeline(steps=[('standardscaler', StandardScaler()),\n",
       "                ('linearregression', LinearRegression())])"
      ]
     },
     "execution_count": 31,
     "metadata": {},
     "output_type": "execute_result"
    }
   ],
   "source": [
    "pipe.fit(train_x, train_y)"
   ]
  },
  {
   "cell_type": "code",
   "execution_count": 32,
   "id": "e9eda5a4-70ac-4a55-9365-f61eabf4c5f5",
   "metadata": {},
   "outputs": [
    {
     "name": "stdout",
     "output_type": "stream",
     "text": [
      "MSE 0.5181044887725772\n",
      "R2 Score 0.346136592777438\n"
     ]
    }
   ],
   "source": [
    "print_metrics(pipe, test_x, test_y)"
   ]
  },
  {
   "cell_type": "markdown",
   "id": "46d58760-0637-40ac-9a89-95917c3b82b5",
   "metadata": {},
   "source": [
    "Adding a scaler didn't improve the result of the model, so basic Linear Regression isn't sensitive to scaling"
   ]
  },
  {
   "cell_type": "markdown",
   "id": "9cf534d6-2b4b-431f-b6c4-b00a296100c4",
   "metadata": {},
   "source": [
    "## *l1* and *l2* regularization"
   ]
  },
  {
   "cell_type": "markdown",
   "id": "c1ba7a42-0a3c-40b3-bb35-63d03a7e98cd",
   "metadata": {},
   "source": [
    "Let's start by training a simple *l1* (Lasso) and *l2* (Ridge) model on the same data as the linear model above.\n",
    "\n",
    "For now, let's go with $\\alpha=1$ for full-strength regularization"
   ]
  },
  {
   "cell_type": "code",
   "execution_count": 39,
   "id": "6e76c072-ee9a-43fb-9591-e46ec885f263",
   "metadata": {},
   "outputs": [],
   "source": [
    "from sklearn.linear_model import Ridge, Lasso"
   ]
  },
  {
   "cell_type": "code",
   "execution_count": 38,
   "id": "7577bd0b-cb35-4586-9278-c34b3349b3a2",
   "metadata": {},
   "outputs": [
    {
     "name": "stdout",
     "output_type": "stream",
     "text": [
      "Lasso metrics:\n",
      "MSE 0.7895467709055487\n",
      "R2 Score 0.0035682898464813873\n"
     ]
    }
   ],
   "source": [
    "lasso_model = Lasso(1)\n",
    "lasso_model.fit(train_x, train_y)\n",
    "\n",
    "print(\"Lasso metrics:\")\n",
    "print_metrics(lasso_model, test_x, test_y)"
   ]
  },
  {
   "cell_type": "code",
   "execution_count": 40,
   "id": "860a8d97-45ee-4e93-bdd4-682559de6a27",
   "metadata": {},
   "outputs": [
    {
     "name": "stdout",
     "output_type": "stream",
     "text": [
      "Ridge metrics: \n",
      "MSE 0.5212445630274457\n",
      "R2 Score 0.34217372487007014\n"
     ]
    }
   ],
   "source": [
    "ridge_model = Ridge(1)\n",
    "ridge_model.fit(train_x, train_y)\n",
    "\n",
    "print(\"Ridge metrics: \")\n",
    "print_metrics(ridge_model, test_x, test_y)"
   ]
  },
  {
   "cell_type": "markdown",
   "id": "6a0fb767-284b-45d4-a6bc-788e4bb61302",
   "metadata": {},
   "source": [
    "So, Lasso regularized model performs much worse compared to normal linear regression. And Ridge performs about the same. Why is that?\n",
    "\n",
    "As they are both meant to prevent overfitting, perhaps the  simple linear regression model doesn't overfit? Let's look at how it performs on the training dataset."
   ]
  },
  {
   "cell_type": "code",
   "execution_count": 48,
   "id": "93a891f3-cc0b-4184-9d80-35644cb0c1dc",
   "metadata": {},
   "outputs": [
    {
     "name": "stdout",
     "output_type": "stream",
     "text": [
      "Linear Regression Test Metrics\n",
      "MSE 0.5181044887725772\n",
      "R2 Score 0.346136592777438\n"
     ]
    }
   ],
   "source": [
    "print(\"Linear Regression Test Metrics\")\n",
    "print_metrics(pipe, test_x, test_y)"
   ]
  },
  {
   "cell_type": "code",
   "execution_count": 49,
   "id": "d3b9dbb3-b50d-4de2-b593-1d8e61c3a662",
   "metadata": {},
   "outputs": [
    {
     "name": "stdout",
     "output_type": "stream",
     "text": [
      "Linear Regression Train Metrics\n",
      "MSE 0.5445772958914633\n",
      "R2 Score 0.27872131256933186\n"
     ]
    }
   ],
   "source": [
    "print(\"Linear Regression Train Metrics\")\n",
    "print_metrics(pipe, train_x, train_y)"
   ]
  },
  {
   "cell_type": "markdown",
   "id": "c1ff016c-ca76-4fa0-a916-652db3370a84",
   "metadata": {},
   "source": [
    "So it seems that the model is underfitting on the training metrics.\n",
    "\n",
    "This likely means that this dataset doesn't have a linear relationship at all, and Linear Regression isn't an appropriate model to solve it."
   ]
  },
  {
   "cell_type": "code",
   "execution_count": null,
   "id": "f26f1c95-86fd-4cff-a663-e55a2e08e908",
   "metadata": {},
   "outputs": [],
   "source": []
  }
 ],
 "metadata": {
  "kernelspec": {
   "display_name": "ml_exploration",
   "language": "python",
   "name": "ml_exploration"
  },
  "language_info": {
   "codemirror_mode": {
    "name": "ipython",
    "version": 3
   },
   "file_extension": ".py",
   "mimetype": "text/x-python",
   "name": "python",
   "nbconvert_exporter": "python",
   "pygments_lexer": "ipython3",
   "version": "3.9.2"
  }
 },
 "nbformat": 4,
 "nbformat_minor": 5
}
